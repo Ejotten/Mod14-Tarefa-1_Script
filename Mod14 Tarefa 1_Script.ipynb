{
 "cells": [
  {
   "cell_type": "code",
   "execution_count": null,
   "id": "566d5097",
   "metadata": {},
   "outputs": [],
   "source": [
    "import numpy as np\n",
    "import pandas as pd\n",
    "import seaborn as sns\n",
    "import matplotlib.pyplot as plt\n",
    "import os\n",
    "\n",
    "def plota_pivot_table(df, value, index, func, ylabel, xlabel, opcao='nada'):\n",
    "    if opcao == 'nada': # Cria o grafico de linha sem agregações\n",
    "        pd.pivot_table(df, values=value, index=index,\n",
    "                       aggfunc=func).plot(figsize=[15, 5])\n",
    "    elif opcao == 'sort':  # Cria o grafico de linha por uma variavel específica\n",
    "        pd.pivot_table(df, values=value, index=index,\n",
    "                       aggfunc=func).sort_values(value).plot(figsize=[15, 5])\n",
    "    elif opcao == 'unstack': # Cria o grafico de linha separando o eixo y em variaveis epsecíficas\n",
    "        pd.pivot_table(df, values=value, index=index,\n",
    "                       aggfunc=func).unstack().plot(figsize=[15, 5])\n",
    "    plt.ylabel(ylabel)\n",
    "    plt.xlabel(xlabel)\n",
    "    return None\n",
    "\n",
    "max_data = sinasc.DTNASC.max()[:7]\n",
    "\n",
    "os.makedirs('./output/figs/'+max_data, exist_ok=True)"
   ]
  },
  {
   "cell_type": "markdown",
   "id": "e7b4c320",
   "metadata": {},
   "source": [
    "###  Para automatizar melhor esta planilha, poderíamos separa em duas etapas, se os gráficos forem sempre os mesmos deixaríamos já configurado para gerar todos gráfico através de uma lista só atualizando o DF, caso os gráficos tenham variação poderíamos perguntar por um input do usuário."
   ]
  }
 ],
 "metadata": {
  "kernelspec": {
   "display_name": "Python 3 (ipykernel)",
   "language": "python",
   "name": "python3"
  },
  "language_info": {
   "codemirror_mode": {
    "name": "ipython",
    "version": 3
   },
   "file_extension": ".py",
   "mimetype": "text/x-python",
   "name": "python",
   "nbconvert_exporter": "python",
   "pygments_lexer": "ipython3",
   "version": "3.9.13"
  }
 },
 "nbformat": 4,
 "nbformat_minor": 5
}
